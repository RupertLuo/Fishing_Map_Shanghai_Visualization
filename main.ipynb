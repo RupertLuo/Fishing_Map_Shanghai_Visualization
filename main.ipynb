{
 "metadata": {
  "language_info": {
   "codemirror_mode": {
    "name": "ipython",
    "version": 3
   },
   "file_extension": ".py",
   "mimetype": "text/x-python",
   "name": "python",
   "nbconvert_exporter": "python",
   "pygments_lexer": "ipython3",
   "version": "3.8.5"
  },
  "orig_nbformat": 2,
  "kernelspec": {
   "name": "python385jvsc74a57bd0c93d6c2eea3877e7522002eaa56893bbafeb405ac1b1c7bd296e0e22f3936301",
   "display_name": "Python 3.8.5 64-bit ('base': conda)"
  }
 },
 "nbformat": 4,
 "nbformat_minor": 2,
 "cells": [
  {
   "source": [
    "# 数据预处理"
   ],
   "cell_type": "markdown",
   "metadata": {}
  },
  {
   "cell_type": "code",
   "execution_count": 1,
   "metadata": {},
   "outputs": [],
   "source": [
    "import pandas as pd\n",
    "import numpy as np"
   ]
  },
  {
   "source": [
    "data = pd.read_csv('shanghai_fishing_data.csv').dropna().reset_index()\n",
    "data['lng'] = np.nan\n",
    "data['lat'] = np.nan"
   ],
   "cell_type": "code",
   "metadata": {},
   "execution_count": 2,
   "outputs": []
  },
  {
   "cell_type": "code",
   "execution_count": 3,
   "metadata": {},
   "outputs": [
    {
     "output_type": "execute_result",
     "data": {
      "text/plain": [
       "880"
      ]
     },
     "metadata": {},
     "execution_count": 3
    }
   ],
   "source": [
    "len(data)"
   ]
  },
  {
   "cell_type": "code",
   "execution_count": 4,
   "metadata": {},
   "outputs": [
    {
     "output_type": "execute_result",
     "data": {
      "text/plain": [
       "index                                                          1\n",
       "标题                                                           太浦河\n",
       "标题链接           https://www.haodiaoyu.com/diaochang/shanghai/5...\n",
       "缩略图            http://p6.diaoyur.cn/group6/M00/06/ED/cjd0iVX0...\n",
       "right-info                                       上海市青浦区练西公路2755弄\n",
       "right-info1                                                   免费\n",
       "lng                                                          NaN\n",
       "lat                                                          NaN\n",
       "Name: 0, dtype: object"
      ]
     },
     "metadata": {},
     "execution_count": 4
    }
   ],
   "source": [
    "data.iloc[0]"
   ]
  },
  {
   "source": [
    "# 通过地址获得经纬度"
   ],
   "cell_type": "markdown",
   "metadata": {}
  },
  {
   "cell_type": "code",
   "execution_count": 5,
   "metadata": {},
   "outputs": [
    {
     "output_type": "execute_result",
     "data": {
      "text/plain": [
       "{'location': {'lng': 121.77481532542775, 'lat': 31.148866824133297},\n",
       " 'precise': 1,\n",
       " 'confidence': 80,\n",
       " 'comprehension': 100,\n",
       " 'level': '门址'}"
      ]
     },
     "metadata": {},
     "execution_count": 5
    }
   ],
   "source": [
    "import json \n",
    "from urllib.request import urlopen, quote\n",
    "def get_location(address):\n",
    "    url = 'http://api.map.baidu.com/geocoding/v3/'\n",
    "    output = 'json'\n",
    "    ak = 'Z2DhjlINisiQofu9MRGzPBhsjabYOTon'\n",
    "    add = quote(address)\n",
    "    uri = url + '?' + 'address=' + add + '&output=' + output + '&ak=' + ak\n",
    "    req = urlopen(uri)\n",
    "    res = req.read().decode()\n",
    "    temp = json.loads(res)\n",
    "    try:\n",
    "        return temp['result']\n",
    "    except:\n",
    "        # print('\\n'+str(temp))\n",
    "        return ''\n",
    "get_location('上海市浦东新区运航路909号')"
   ]
  },
  {
   "source": [
    "# 给每一条数据加上经纬度"
   ],
   "cell_type": "markdown",
   "metadata": {}
  },
  {
   "cell_type": "code",
   "execution_count": 6,
   "metadata": {
    "tags": []
   },
   "outputs": [
    {
     "output_type": "stream",
     "name": "stderr",
     "text": [
      "100%|██████████| 880/880 [00:53<00:00, 16.53it/s]\n"
     ]
    }
   ],
   "source": [
    "from tqdm import tqdm\n",
    "import time\n",
    "import numpy as np\n",
    "n = len(data)\n",
    "lng = [0]*n\n",
    "lat = [0]*n\n",
    "failure = []\n",
    "for i in tqdm(range(n)):\n",
    "    location = data.iloc[i][4]\n",
    "    try:\n",
    "        information = get_location(location)\n",
    "        data.loc[i,'lng'] = information['location']['lng']\n",
    "        data.loc[i,'lat'] = information['location']['lat']\n",
    "    except:\n",
    "        failure.append(i)"
   ]
  },
  {
   "cell_type": "code",
   "execution_count": 10,
   "metadata": {},
   "outputs": [],
   "source": [
    "new_data = data.dropna().reset_index()"
   ]
  },
  {
   "cell_type": "code",
   "execution_count": 13,
   "metadata": {},
   "outputs": [
    {
     "output_type": "execute_result",
     "data": {
      "text/plain": [
       "'免费'"
      ]
     },
     "metadata": {},
     "execution_count": 13
    }
   ],
   "source": [
    "new_data.iloc[0][6]"
   ]
  },
  {
   "source": [
    "# 利用百度地图绘制钓点"
   ],
   "cell_type": "markdown",
   "metadata": {}
  },
  {
   "cell_type": "code",
   "execution_count": 14,
   "metadata": {},
   "outputs": [],
   "source": [
    "from pyecharts.charts import Geo\n",
    "from pyecharts import options as opts\n",
    "from pyecharts.globals import GeoType\n",
    "from pyecharts.charts import BMap\n",
    "import json as js\n",
    "def convert_data(data):\n",
    "    res = []\n",
    "    for i in range(len(data)):\n",
    "        res.append([data.iloc[i][2], data.iloc[i][6]])\n",
    "    return res\n",
    "data_pair = convert_data(new_data)"
   ]
  },
  {
   "cell_type": "code",
   "execution_count": 15,
   "metadata": {},
   "outputs": [
    {
     "output_type": "execute_result",
     "data": {
      "text/plain": [
       "'/Users/luoruipu/Fishing_Map_Shanghai_Visualization/fishing_shanghai_map.html'"
      ]
     },
     "metadata": {},
     "execution_count": 15
    }
   ],
   "source": [
    "m = BMap(init_opts=opts.InitOpts(width=\"1400px\", height=\"800px\")).add_schema(\n",
    "        baidu_ak=\"Z2DhjlINisiQofu9MRGzPBhsjabYOTon\",\\\n",
    "        center=[121.47,31.17],\\\n",
    "        zoom=11,\\\n",
    "        map_style=js.load(open('mapstyle.json','r'))\\\n",
    "    )\n",
    "for i in range(len(new_data)):\n",
    "    m.add_coordinate(new_data.iloc[i,2],new_data.iloc[i,7],new_data.iloc[i,8])\n",
    "m = m.add(\n",
    "        type_=\"effectScatter\",\n",
    "        series_name=\"fishing_point\",\n",
    "        data_pair=data_pair,\n",
    "        symbol_size=10,\n",
    "        effect_opts=opts.EffectOpts(),\n",
    "        label_opts=opts.LabelOpts(formatter=\"{b}\", position=\"right\", is_show=False),\n",
    "        itemstyle_opts=opts.ItemStyleOpts(color=\"red\"),\n",
    "    )\n",
    "m.render(\"fishing_shanghai_map.html\")"
   ]
  },
  {
   "cell_type": "code",
   "execution_count": 16,
   "metadata": {},
   "outputs": [],
   "source": [
    "new_data.to_csv('new_data.csv',index=False)"
   ]
  }
 ]
}